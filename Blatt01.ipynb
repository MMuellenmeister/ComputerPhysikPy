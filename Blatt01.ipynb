{
 "cells": [
  {
   "cell_type": "code",
   "execution_count": 5,
   "metadata": {},
   "outputs": [
    {
     "name": "stdout",
     "output_type": "stream",
     "text": [
      "s1:  8.382332347441762\n",
      "s2:  4.787491742782046\n",
      "p1:  0.006600624999999999\n",
      "p2:  1.2928139034745716\n"
     ]
    }
   ],
   "source": [
    "import math\n",
    "\n",
    "M=5\n",
    "s1=0.0\n",
    "s2=0.0\n",
    "p1=1.0\n",
    "p2=1.0\n",
    "\n",
    "for n in range(1,M+1):\n",
    "    s1+=math.sqrt(n)\n",
    "    s2+=math.log(n)\n",
    "    p1*=(math.cos((n*math.pi)/10))**2+0.1\n",
    "    p2*=math.sqrt(1+math.exp(-n))\n",
    "print(\"s1: \",s1)\n",
    "print(\"s2: \",s2)\n",
    "print(\"p1: \",p1)\n",
    "print(\"p2: \",p2)\n",
    "\n"
   ]
  },
  {
   "cell_type": "code",
   "execution_count": 6,
   "metadata": {},
   "outputs": [
    {
     "name": "stdout",
     "output_type": "stream",
     "text": [
      "1! = 1\n",
      "2! = 1\n",
      "3! = 2\n",
      "4! = 6\n",
      "5! = 24\n",
      "6! = 120\n",
      "7! = 720\n",
      "8! = 5040\n",
      "9! = 40320\n",
      "10! = 362880\n"
     ]
    }
   ],
   "source": [
    "import math\n",
    "\n",
    "nmax=10\n",
    "fakultaet=1\n",
    "\n",
    "for n in range(1,nmax+1):\n",
    "    print(str(n)+\"! = \"+str(fakultaet))\n",
    "    fakultaet*=n"
   ]
  },
  {
   "cell_type": "code",
   "execution_count": 24,
   "metadata": {},
   "outputs": [
    {
     "name": "stdout",
     "output_type": "stream",
     "text": [
      "[21032]_4= 590\n",
      "[21032]_5= 1392\n",
      "[21032]_6= 2828\n",
      "[21032]_7= 5168\n",
      "[21032]_8= 8730\n",
      "[21032]_9= 13880\n",
      "[21032]_10= 21032\n"
     ]
    }
   ],
   "source": [
    "import math\n",
    "\n",
    "def n2dec(n, zahl):\n",
    "    digits=math.floor(math.log10(zahl))+1\n",
    "    erg=0\n",
    "    for i in range(0,digits):\n",
    "        p=(math.floor(zahl/(10**(digits-i-1))))\n",
    "        erg+=p*n**(digits-i-1)\n",
    "        zahl-=p*10**(digits-i-1)\n",
    "    return erg\n",
    "\n",
    "for i in range(4,11):\n",
    "    print(\"[21032]_\"+str(i)+\"=\",n2dec(i,21032))"
   ]
  },
  {
   "cell_type": "code",
   "execution_count": 16,
   "metadata": {},
   "outputs": [
    {
     "name": "stdout",
     "output_type": "stream",
     "text": [
      "  0  1  2  3  4  5\n",
      "     0  1  2  3  4\n",
      "        0  1  2  3\n",
      "           0  1  2\n",
      "              0  1\n",
      "                 0\n"
     ]
    }
   ],
   "source": [
    "import math\n",
    "N= 5\n",
    "f=\"\"\n",
    "for n in range(N+1,0,-1):\n",
    "    s=f\n",
    "    if \n",
    "    f=\"   \"+f\n",
    "    for i in range(0,n):\n",
    "        if i<10:\n",
    "            s+= \" \"\n",
    "        s+= \" \"+str(i)\n",
    "    print(s)\n"
   ]
  }
 ],
 "metadata": {
  "kernelspec": {
   "display_name": "Python 3",
   "language": "python",
   "name": "python3"
  },
  "language_info": {
   "codemirror_mode": {
    "name": "ipython",
    "version": 3
   },
   "file_extension": ".py",
   "mimetype": "text/x-python",
   "name": "python",
   "nbconvert_exporter": "python",
   "pygments_lexer": "ipython3",
   "version": "3.7.4"
  }
 },
 "nbformat": 4,
 "nbformat_minor": 2
}
