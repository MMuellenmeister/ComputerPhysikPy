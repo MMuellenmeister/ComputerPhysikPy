{
 "cells": [
  {
   "cell_type": "code",
   "execution_count": 7,
   "metadata": {},
   "outputs": [
    {
     "name": "stdout",
     "output_type": "stream",
     "text": [
      "499593.93047032325  0.033509 seconds (2.00 M allocations: 30.519 MiB, 2.50% gc time)\n"
     ]
    }
   ],
   "source": [
    "@time begin\n",
    "s=0.0\n",
    "for i=0:1000000\n",
    "    s=s+rand()\n",
    "end\n",
    "print(s)\n",
    "end"
   ]
  },
  {
   "cell_type": "code",
   "execution_count": 10,
   "metadata": {},
   "outputs": [
    {
     "ename": "LoadError",
     "evalue": "\u001b[91mTypeError: non-boolean (Int64) used in boolean context\u001b[39m",
     "output_type": "error",
     "traceback": [
      "\u001b[91mTypeError: non-boolean (Int64) used in boolean context\u001b[39m",
      "",
      "Stacktrace:",
      " [1] \u001b[1mr30\u001b[22m\u001b[22m\u001b[1m(\u001b[22m\u001b[22m::Int64, ::Int64, ::Int64\u001b[1m)\u001b[22m\u001b[22m at \u001b[1m.\\In[10]:2\u001b[22m\u001b[22m",
      " [2] \u001b[1minclude_string\u001b[22m\u001b[22m\u001b[1m(\u001b[22m\u001b[22m::String, ::String\u001b[1m)\u001b[22m\u001b[22m at \u001b[1m.\\loading.jl:522\u001b[22m\u001b[22m"
     ]
    }
   ],
   "source": [
    "function r30(a, b, c)\n",
    "    return xor(a, (b|| c))\n",
    "end\n",
    "r30(1, 0, 0)"
   ]
  },
  {
   "cell_type": "code",
   "execution_count": 2,
   "metadata": {},
   "outputs": [
    {
     "name": "stdout",
     "output_type": "stream",
     "text": [
      "[1.0, 2.0]\n"
     ]
    }
   ],
   "source": [
    "y = Array{Float64}(2)\n",
    "y[1] = 1.0\n",
    "y[2] = 2.0\n",
    "println(y)"
   ]
  },
  {
   "cell_type": "code",
   "execution_count": 3,
   "metadata": {},
   "outputs": [
    {
     "ename": "LoadError",
     "evalue": "\u001b[91mUndefVarError: CPU_THREADS not defined\u001b[39m",
     "output_type": "error",
     "traceback": [
      "\u001b[91mUndefVarError: CPU_THREADS not defined\u001b[39m",
      "",
      "Stacktrace:",
      " [1] \u001b[1manonymous\u001b[22m\u001b[22m at \u001b[1m.\\<missing>:?\u001b[22m\u001b[22m",
      " [2] \u001b[1minclude_string\u001b[22m\u001b[22m\u001b[1m(\u001b[22m\u001b[22m::String, ::String\u001b[1m)\u001b[22m\u001b[22m at \u001b[1m.\\loading.jl:522\u001b[22m\u001b[22m"
     ]
    }
   ],
   "source": [
    "Base.runtests(tests=[\"all\"]; ncores=ceil(Int, Sys.CPU_THREADS / 2), exit_on_error=false, [seed])"
   ]
  }
 ],
 "metadata": {
  "kernelspec": {
   "display_name": "Julia 0.6.2",
   "language": "julia",
   "name": "julia-0.6"
  },
  "language_info": {
   "file_extension": ".jl",
   "mimetype": "application/julia",
   "name": "julia",
   "version": "0.6.2"
  }
 },
 "nbformat": 4,
 "nbformat_minor": 2
}
